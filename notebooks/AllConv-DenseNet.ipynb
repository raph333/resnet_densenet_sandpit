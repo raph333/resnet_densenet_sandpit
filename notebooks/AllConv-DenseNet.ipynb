{
 "cells": [
  {
   "cell_type": "markdown",
   "metadata": {
    "colab_type": "text",
    "id": "7-mtkJnzYN-v"
   },
   "source": [
    "# The AllConv-DenseNet"
   ]
  },
  {
   "cell_type": "code",
   "execution_count": 1,
   "metadata": {
    "colab": {
     "base_uri": "https://localhost:8080/",
     "height": 92
    },
    "colab_type": "code",
    "executionInfo": {
     "elapsed": 1205912,
     "status": "ok",
     "timestamp": 1550209651768,
     "user": {
      "displayName": "dense net",
      "photoUrl": "",
      "userId": "16658811603426351804"
     },
     "user_tz": -60
    },
    "id": "hYXkCVsoU8Hp",
    "outputId": "02c94329-6dcf-4f6e-8947-b63cd637f9eb"
   },
   "outputs": [],
   "source": [
    "import os\n",
    "\n",
    "import numpy as np\n",
    "from numpy.random import choice\n",
    "import pandas as pd\n",
    "import matplotlib.pyplot as plt\n",
    "\n",
    "import torch\n",
    "import torch.nn as nn\n",
    "from torch.utils.data import DataLoader\n",
    "from torch.utils.data.sampler import SubsetRandomSampler\n",
    "from torchvision import transforms\n",
    "from torchvision import datasets\n",
    "import torchvision\n",
    "\n",
    "import sys\n",
    "sys.path.append('../utils')\n",
    "sys.path.append('../models')\n",
    "import utils\n",
    "import all_conv_dense_net"
   ]
  },
  {
   "cell_type": "code",
   "execution_count": 2,
   "metadata": {
    "colab": {
     "base_uri": "https://localhost:8080/",
     "height": 126
    },
    "colab_type": "code",
    "executionInfo": {
     "elapsed": 1213810,
     "status": "ok",
     "timestamp": 1550209659695,
     "user": {
      "displayName": "dense net",
      "photoUrl": "",
      "userId": "16658811603426351804"
     },
     "user_tz": -60
    },
    "id": "qL0JbD5qUGfx",
    "outputId": "bf6af0ef-2fdf-4802-b473-fda88f08a3bb"
   },
   "outputs": [
    {
     "name": "stdout",
     "output_type": "stream",
     "text": [
      "Files already downloaded and verified\n",
      "Files already downloaded and verified\n",
      "training batches: 704\n",
      "validation batches: 79\n",
      "test batches: 157\n",
      "batch size: 64\n"
     ]
    }
   ],
   "source": [
    "data_dir = '../data'\n",
    "\n",
    "# values for normalisation\n",
    "channel_means = (0.5071, 0.4865, 0.4409)\n",
    "channel_standard_devs = (0.2673, 0.2564, 0.2762)\n",
    "\n",
    "transformation = transforms.Compose([\n",
    "    transforms.ToTensor(),\n",
    "    transforms.Normalize(channel_means, channel_standard_devs)\n",
    "])\n",
    "batchsize=64\n",
    "\n",
    "test_set = datasets.CIFAR100(data_dir, train=False, transform=transformation, download=True)\n",
    "test_loader = DataLoader(test_set, batch_size=batchsize)\n",
    "\n",
    "rest = datasets.CIFAR100(data_dir, train=True, transform=transformation, download=True)\n",
    "train_loader, validation_loader = utils.train_validation_split(rest, fraction=0.1, batchsize=batchsize)\n",
    "\n",
    "print(f'training batches: {len(train_loader)}')\n",
    "print(f'validation batches: {len(validation_loader)}')\n",
    "print(f'test batches: {len(test_loader)}')\n",
    "print(f'batch size: {batchsize}')"
   ]
  },
  {
   "cell_type": "code",
   "execution_count": null,
   "metadata": {
    "colab": {
     "base_uri": "https://localhost:8080/",
     "height": 72
    },
    "colab_type": "code",
    "executionInfo": {
     "elapsed": 1214175,
     "status": "ok",
     "timestamp": 1550209660133,
     "user": {
      "displayName": "dense net",
      "photoUrl": "",
      "userId": "16658811603426351804"
     },
     "user_tz": -60
    },
    "id": "zETqvK2stVXU",
    "outputId": "affc1e31-8827-47c9-c2af-258e4ae1eb4b"
   },
   "outputs": [
    {
     "name": "stdout",
     "output_type": "stream",
     "text": [
      "MODEL: AllConv-DenseNet\n",
      "parameters: 1.05 million\n",
      "\n",
      "epoch\ttraining-CE\tvalidation-CE\tvalidation-accuracy (%)\n"
     ]
    }
   ],
   "source": [
    "print('MODEL: AllConv-DenseNet')\n",
    "net = all_conv_dense_net.AllConvDenseNet(g=64)\n",
    "print(f'parameters: {utils.count_parameters(net, in_millions=True):.2f} million\\n')\n",
    "\n",
    "optimizer = torch.optim.SGD(net.parameters(),\n",
    "                            lr=0.1,\n",
    "                            momentum=0.9,\n",
    "                            weight_decay=0  #0.00002\n",
    "                           )\n",
    "scheduler = torch.optim.lr_scheduler.ReduceLROnPlateau(\n",
    "    optimizer, factor=0.75, patience=5, threshold=0.01, verbose=True)\n",
    "\n",
    "utils.train_model(net, train_loader, validation_loader, optimizer, scheduler, max_epoch=500)"
   ]
  },
  {
   "cell_type": "code",
   "execution_count": null,
   "metadata": {
    "colab": {},
    "colab_type": "code",
    "id": "DIjrpeUeqj1N",
    "scrolled": true
   },
   "outputs": [],
   "source": [
    "utils.plot_error_curves(utils.error_stats, error_name='cross-entropy loss')\n",
    "utils.test_set_evaluation(net.cuda(), test_loader, just_print=True)"
   ]
  }
 ],
 "metadata": {
  "accelerator": "GPU",
  "colab": {
   "collapsed_sections": [],
   "name": "final_report.ipynb",
   "provenance": [],
   "version": "0.3.2"
  },
  "kernelspec": {
   "display_name": "Python 3",
   "language": "python",
   "name": "python3"
  },
  "language_info": {
   "codemirror_mode": {
    "name": "ipython",
    "version": 3
   },
   "file_extension": ".py",
   "mimetype": "text/x-python",
   "name": "python",
   "nbconvert_exporter": "python",
   "pygments_lexer": "ipython3",
   "version": "3.7.3"
  }
 },
 "nbformat": 4,
 "nbformat_minor": 1
}
